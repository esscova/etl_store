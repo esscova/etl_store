{
 "cells": [
  {
   "cell_type": "code",
   "execution_count": 5,
   "metadata": {},
   "outputs": [],
   "source": [
    "from utils import Extractor\n",
    "import pandas as pd\n"
   ]
  },
  {
   "cell_type": "markdown",
   "metadata": {},
   "source": [
    "## EXTRAÇÃO"
   ]
  },
  {
   "cell_type": "code",
   "execution_count": 21,
   "metadata": {},
   "outputs": [
    {
     "name": "stderr",
     "output_type": "stream",
     "text": [
      "\u001b[32m2024-12-02 16:21:18.455\u001b[0m | \u001b[1mINFO    \u001b[0m | \u001b[36mutils\u001b[0m:\u001b[36m_fetch_data\u001b[0m:\u001b[36m20\u001b[0m - \u001b[1mCarregando dados de products...\u001b[0m\n",
      "\u001b[32m2024-12-02 16:21:18.770\u001b[0m | \u001b[1mINFO    \u001b[0m | \u001b[36mutils\u001b[0m:\u001b[36m_fetch_data\u001b[0m:\u001b[36m32\u001b[0m - \u001b[1mDados de products carregados com sucesso!\u001b[0m\n",
      "\u001b[32m2024-12-02 16:21:18.771\u001b[0m | \u001b[1mINFO    \u001b[0m | \u001b[36mutils\u001b[0m:\u001b[36m_fetch_data\u001b[0m:\u001b[36m20\u001b[0m - \u001b[1mCarregando dados de users...\u001b[0m\n",
      "\u001b[32m2024-12-02 16:21:19.189\u001b[0m | \u001b[1mINFO    \u001b[0m | \u001b[36mutils\u001b[0m:\u001b[36m_fetch_data\u001b[0m:\u001b[36m32\u001b[0m - \u001b[1mDados de users carregados com sucesso!\u001b[0m\n"
     ]
    }
   ],
   "source": [
    "# extract\n",
    "extractor = Extractor()\n",
    "products = extractor.get_products()\n",
    "users = extractor.get_users()\n",
    "vendas_df = pd.read_csv(\"data/vendas.csv\", sep=\",\", encoding=\"utf-8\")\n"
   ]
  },
  {
   "cell_type": "code",
   "execution_count": 34,
   "metadata": {},
   "outputs": [
    {
     "data": {
      "text/html": [
       "<div>\n",
       "<style scoped>\n",
       "    .dataframe tbody tr th:only-of-type {\n",
       "        vertical-align: middle;\n",
       "    }\n",
       "\n",
       "    .dataframe tbody tr th {\n",
       "        vertical-align: top;\n",
       "    }\n",
       "\n",
       "    .dataframe thead th {\n",
       "        text-align: right;\n",
       "    }\n",
       "</style>\n",
       "<table border=\"1\" class=\"dataframe\">\n",
       "  <thead>\n",
       "    <tr style=\"text-align: right;\">\n",
       "      <th></th>\n",
       "      <th>id</th>\n",
       "      <th>title</th>\n",
       "      <th>price</th>\n",
       "      <th>description</th>\n",
       "      <th>category</th>\n",
       "      <th>image</th>\n",
       "      <th>rating</th>\n",
       "    </tr>\n",
       "  </thead>\n",
       "  <tbody>\n",
       "    <tr>\n",
       "      <th>0</th>\n",
       "      <td>1</td>\n",
       "      <td>Fjallraven - Foldsack No. 1 Backpack, Fits 15 ...</td>\n",
       "      <td>109.95</td>\n",
       "      <td>Your perfect pack for everyday use and walks i...</td>\n",
       "      <td>men's clothing</td>\n",
       "      <td>https://fakestoreapi.com/img/81fPKd-2AYL._AC_S...</td>\n",
       "      <td>{'rate': 3.9, 'count': 120}</td>\n",
       "    </tr>\n",
       "    <tr>\n",
       "      <th>1</th>\n",
       "      <td>2</td>\n",
       "      <td>Mens Casual Premium Slim Fit T-Shirts</td>\n",
       "      <td>22.30</td>\n",
       "      <td>Slim-fitting style, contrast raglan long sleev...</td>\n",
       "      <td>men's clothing</td>\n",
       "      <td>https://fakestoreapi.com/img/71-3HjGNDUL._AC_S...</td>\n",
       "      <td>{'rate': 4.1, 'count': 259}</td>\n",
       "    </tr>\n",
       "    <tr>\n",
       "      <th>2</th>\n",
       "      <td>3</td>\n",
       "      <td>Mens Cotton Jacket</td>\n",
       "      <td>55.99</td>\n",
       "      <td>great outerwear jackets for Spring/Autumn/Wint...</td>\n",
       "      <td>men's clothing</td>\n",
       "      <td>https://fakestoreapi.com/img/71li-ujtlUL._AC_U...</td>\n",
       "      <td>{'rate': 4.7, 'count': 500}</td>\n",
       "    </tr>\n",
       "    <tr>\n",
       "      <th>3</th>\n",
       "      <td>4</td>\n",
       "      <td>Mens Casual Slim Fit</td>\n",
       "      <td>15.99</td>\n",
       "      <td>The color could be slightly different between ...</td>\n",
       "      <td>men's clothing</td>\n",
       "      <td>https://fakestoreapi.com/img/71YXzeOuslL._AC_U...</td>\n",
       "      <td>{'rate': 2.1, 'count': 430}</td>\n",
       "    </tr>\n",
       "    <tr>\n",
       "      <th>4</th>\n",
       "      <td>5</td>\n",
       "      <td>John Hardy Women's Legends Naga Gold &amp; Silver ...</td>\n",
       "      <td>695.00</td>\n",
       "      <td>From our Legends Collection, the Naga was insp...</td>\n",
       "      <td>jewelery</td>\n",
       "      <td>https://fakestoreapi.com/img/71pWzhdJNwL._AC_U...</td>\n",
       "      <td>{'rate': 4.6, 'count': 400}</td>\n",
       "    </tr>\n",
       "  </tbody>\n",
       "</table>\n",
       "</div>"
      ],
      "text/plain": [
       "   id                                              title   price  \\\n",
       "0   1  Fjallraven - Foldsack No. 1 Backpack, Fits 15 ...  109.95   \n",
       "1   2             Mens Casual Premium Slim Fit T-Shirts    22.30   \n",
       "2   3                                 Mens Cotton Jacket   55.99   \n",
       "3   4                               Mens Casual Slim Fit   15.99   \n",
       "4   5  John Hardy Women's Legends Naga Gold & Silver ...  695.00   \n",
       "\n",
       "                                         description        category  \\\n",
       "0  Your perfect pack for everyday use and walks i...  men's clothing   \n",
       "1  Slim-fitting style, contrast raglan long sleev...  men's clothing   \n",
       "2  great outerwear jackets for Spring/Autumn/Wint...  men's clothing   \n",
       "3  The color could be slightly different between ...  men's clothing   \n",
       "4  From our Legends Collection, the Naga was insp...        jewelery   \n",
       "\n",
       "                                               image  \\\n",
       "0  https://fakestoreapi.com/img/81fPKd-2AYL._AC_S...   \n",
       "1  https://fakestoreapi.com/img/71-3HjGNDUL._AC_S...   \n",
       "2  https://fakestoreapi.com/img/71li-ujtlUL._AC_U...   \n",
       "3  https://fakestoreapi.com/img/71YXzeOuslL._AC_U...   \n",
       "4  https://fakestoreapi.com/img/71pWzhdJNwL._AC_U...   \n",
       "\n",
       "                        rating  \n",
       "0  {'rate': 3.9, 'count': 120}  \n",
       "1  {'rate': 4.1, 'count': 259}  \n",
       "2  {'rate': 4.7, 'count': 500}  \n",
       "3  {'rate': 2.1, 'count': 430}  \n",
       "4  {'rate': 4.6, 'count': 400}  "
      ]
     },
     "execution_count": 34,
     "metadata": {},
     "output_type": "execute_result"
    }
   ],
   "source": [
    "# analise products\n",
    "products_df = pd.DataFrame(products)\n",
    "products_df.head()"
   ]
  },
  {
   "cell_type": "code",
   "execution_count": 11,
   "metadata": {},
   "outputs": [
    {
     "data": {
      "text/plain": [
       "Index(['id', 'title', 'price', 'description', 'category', 'image', 'rating'], dtype='object')"
      ]
     },
     "execution_count": 11,
     "metadata": {},
     "output_type": "execute_result"
    }
   ],
   "source": [
    "products_df.columns"
   ]
  },
  {
   "cell_type": "code",
   "execution_count": 12,
   "metadata": {},
   "outputs": [
    {
     "name": "stdout",
     "output_type": "stream",
     "text": [
      "<class 'pandas.core.frame.DataFrame'>\n",
      "RangeIndex: 20 entries, 0 to 19\n",
      "Data columns (total 7 columns):\n",
      " #   Column       Non-Null Count  Dtype  \n",
      "---  ------       --------------  -----  \n",
      " 0   id           20 non-null     int64  \n",
      " 1   title        20 non-null     object \n",
      " 2   price        20 non-null     float64\n",
      " 3   description  20 non-null     object \n",
      " 4   category     20 non-null     object \n",
      " 5   image        20 non-null     object \n",
      " 6   rating       20 non-null     object \n",
      "dtypes: float64(1), int64(1), object(5)\n",
      "memory usage: 1.2+ KB\n"
     ]
    }
   ],
   "source": [
    "products_df.info()"
   ]
  },
  {
   "cell_type": "code",
   "execution_count": 13,
   "metadata": {},
   "outputs": [
    {
     "data": {
      "text/plain": [
       "id             0\n",
       "title          0\n",
       "price          0\n",
       "description    0\n",
       "category       0\n",
       "image          0\n",
       "rating         0\n",
       "dtype: int64"
      ]
     },
     "execution_count": 13,
     "metadata": {},
     "output_type": "execute_result"
    }
   ],
   "source": [
    "products_df.isna().sum()"
   ]
  },
  {
   "cell_type": "code",
   "execution_count": 9,
   "metadata": {},
   "outputs": [
    {
     "data": {
      "text/plain": [
       "(20, 7)"
      ]
     },
     "execution_count": 9,
     "metadata": {},
     "output_type": "execute_result"
    }
   ],
   "source": [
    "products_df.shape"
   ]
  },
  {
   "cell_type": "code",
   "execution_count": 8,
   "metadata": {},
   "outputs": [
    {
     "data": {
      "text/plain": [
       "(20,)"
      ]
     },
     "execution_count": 8,
     "metadata": {},
     "output_type": "execute_result"
    }
   ],
   "source": [
    "products_df[\"id\"].unique().shape"
   ]
  },
  {
   "cell_type": "code",
   "execution_count": 10,
   "metadata": {},
   "outputs": [
    {
     "data": {
      "text/plain": [
       "0"
      ]
     },
     "execution_count": 10,
     "metadata": {},
     "output_type": "execute_result"
    }
   ],
   "source": [
    "products_df['id'].duplicated().sum()"
   ]
  },
  {
   "cell_type": "code",
   "execution_count": 14,
   "metadata": {},
   "outputs": [
    {
     "data": {
      "text/html": [
       "<div>\n",
       "<style scoped>\n",
       "    .dataframe tbody tr th:only-of-type {\n",
       "        vertical-align: middle;\n",
       "    }\n",
       "\n",
       "    .dataframe tbody tr th {\n",
       "        vertical-align: top;\n",
       "    }\n",
       "\n",
       "    .dataframe thead th {\n",
       "        text-align: right;\n",
       "    }\n",
       "</style>\n",
       "<table border=\"1\" class=\"dataframe\">\n",
       "  <thead>\n",
       "    <tr style=\"text-align: right;\">\n",
       "      <th></th>\n",
       "      <th>address</th>\n",
       "      <th>id</th>\n",
       "      <th>email</th>\n",
       "      <th>username</th>\n",
       "      <th>password</th>\n",
       "      <th>name</th>\n",
       "      <th>phone</th>\n",
       "      <th>__v</th>\n",
       "    </tr>\n",
       "  </thead>\n",
       "  <tbody>\n",
       "    <tr>\n",
       "      <th>0</th>\n",
       "      <td>{'geolocation': {'lat': '-37.3159', 'long': '8...</td>\n",
       "      <td>1</td>\n",
       "      <td>john@gmail.com</td>\n",
       "      <td>johnd</td>\n",
       "      <td>m38rmF$</td>\n",
       "      <td>{'firstname': 'john', 'lastname': 'doe'}</td>\n",
       "      <td>1-570-236-7033</td>\n",
       "      <td>0</td>\n",
       "    </tr>\n",
       "    <tr>\n",
       "      <th>1</th>\n",
       "      <td>{'geolocation': {'lat': '-37.3159', 'long': '8...</td>\n",
       "      <td>2</td>\n",
       "      <td>morrison@gmail.com</td>\n",
       "      <td>mor_2314</td>\n",
       "      <td>83r5^_</td>\n",
       "      <td>{'firstname': 'david', 'lastname': 'morrison'}</td>\n",
       "      <td>1-570-236-7033</td>\n",
       "      <td>0</td>\n",
       "    </tr>\n",
       "    <tr>\n",
       "      <th>2</th>\n",
       "      <td>{'geolocation': {'lat': '40.3467', 'long': '-3...</td>\n",
       "      <td>3</td>\n",
       "      <td>kevin@gmail.com</td>\n",
       "      <td>kevinryan</td>\n",
       "      <td>kev02937@</td>\n",
       "      <td>{'firstname': 'kevin', 'lastname': 'ryan'}</td>\n",
       "      <td>1-567-094-1345</td>\n",
       "      <td>0</td>\n",
       "    </tr>\n",
       "    <tr>\n",
       "      <th>3</th>\n",
       "      <td>{'geolocation': {'lat': '50.3467', 'long': '-2...</td>\n",
       "      <td>4</td>\n",
       "      <td>don@gmail.com</td>\n",
       "      <td>donero</td>\n",
       "      <td>ewedon</td>\n",
       "      <td>{'firstname': 'don', 'lastname': 'romer'}</td>\n",
       "      <td>1-765-789-6734</td>\n",
       "      <td>0</td>\n",
       "    </tr>\n",
       "    <tr>\n",
       "      <th>4</th>\n",
       "      <td>{'geolocation': {'lat': '40.3467', 'long': '-4...</td>\n",
       "      <td>5</td>\n",
       "      <td>derek@gmail.com</td>\n",
       "      <td>derek</td>\n",
       "      <td>jklg*_56</td>\n",
       "      <td>{'firstname': 'derek', 'lastname': 'powell'}</td>\n",
       "      <td>1-956-001-1945</td>\n",
       "      <td>0</td>\n",
       "    </tr>\n",
       "  </tbody>\n",
       "</table>\n",
       "</div>"
      ],
      "text/plain": [
       "                                             address  id               email  \\\n",
       "0  {'geolocation': {'lat': '-37.3159', 'long': '8...   1      john@gmail.com   \n",
       "1  {'geolocation': {'lat': '-37.3159', 'long': '8...   2  morrison@gmail.com   \n",
       "2  {'geolocation': {'lat': '40.3467', 'long': '-3...   3     kevin@gmail.com   \n",
       "3  {'geolocation': {'lat': '50.3467', 'long': '-2...   4       don@gmail.com   \n",
       "4  {'geolocation': {'lat': '40.3467', 'long': '-4...   5     derek@gmail.com   \n",
       "\n",
       "    username   password                                            name  \\\n",
       "0      johnd    m38rmF$        {'firstname': 'john', 'lastname': 'doe'}   \n",
       "1   mor_2314     83r5^_  {'firstname': 'david', 'lastname': 'morrison'}   \n",
       "2  kevinryan  kev02937@      {'firstname': 'kevin', 'lastname': 'ryan'}   \n",
       "3     donero     ewedon       {'firstname': 'don', 'lastname': 'romer'}   \n",
       "4      derek   jklg*_56    {'firstname': 'derek', 'lastname': 'powell'}   \n",
       "\n",
       "            phone  __v  \n",
       "0  1-570-236-7033    0  \n",
       "1  1-570-236-7033    0  \n",
       "2  1-567-094-1345    0  \n",
       "3  1-765-789-6734    0  \n",
       "4  1-956-001-1945    0  "
      ]
     },
     "execution_count": 14,
     "metadata": {},
     "output_type": "execute_result"
    }
   ],
   "source": [
    "# analise users\n",
    "users_df = pd.DataFrame(users)\n",
    "users_df.head()"
   ]
  },
  {
   "cell_type": "code",
   "execution_count": 15,
   "metadata": {},
   "outputs": [
    {
     "data": {
      "text/plain": [
       "Index(['address', 'id', 'email', 'username', 'password', 'name', 'phone',\n",
       "       '__v'],\n",
       "      dtype='object')"
      ]
     },
     "execution_count": 15,
     "metadata": {},
     "output_type": "execute_result"
    }
   ],
   "source": [
    "users_df.columns"
   ]
  },
  {
   "cell_type": "code",
   "execution_count": 16,
   "metadata": {},
   "outputs": [
    {
     "name": "stdout",
     "output_type": "stream",
     "text": [
      "<class 'pandas.core.frame.DataFrame'>\n",
      "RangeIndex: 10 entries, 0 to 9\n",
      "Data columns (total 8 columns):\n",
      " #   Column    Non-Null Count  Dtype \n",
      "---  ------    --------------  ----- \n",
      " 0   address   10 non-null     object\n",
      " 1   id        10 non-null     int64 \n",
      " 2   email     10 non-null     object\n",
      " 3   username  10 non-null     object\n",
      " 4   password  10 non-null     object\n",
      " 5   name      10 non-null     object\n",
      " 6   phone     10 non-null     object\n",
      " 7   __v       10 non-null     int64 \n",
      "dtypes: int64(2), object(6)\n",
      "memory usage: 772.0+ bytes\n"
     ]
    }
   ],
   "source": [
    "users_df.info()"
   ]
  },
  {
   "cell_type": "code",
   "execution_count": 17,
   "metadata": {},
   "outputs": [
    {
     "data": {
      "text/plain": [
       "address     0\n",
       "id          0\n",
       "email       0\n",
       "username    0\n",
       "password    0\n",
       "name        0\n",
       "phone       0\n",
       "__v         0\n",
       "dtype: int64"
      ]
     },
     "execution_count": 17,
     "metadata": {},
     "output_type": "execute_result"
    }
   ],
   "source": [
    "users_df.isna().sum()"
   ]
  },
  {
   "cell_type": "code",
   "execution_count": 18,
   "metadata": {},
   "outputs": [
    {
     "data": {
      "text/plain": [
       "(10, 8)"
      ]
     },
     "execution_count": 18,
     "metadata": {},
     "output_type": "execute_result"
    }
   ],
   "source": [
    "users_df.shape"
   ]
  },
  {
   "cell_type": "code",
   "execution_count": 19,
   "metadata": {},
   "outputs": [
    {
     "data": {
      "text/plain": [
       "0"
      ]
     },
     "execution_count": 19,
     "metadata": {},
     "output_type": "execute_result"
    }
   ],
   "source": [
    "users_df['id'].duplicated().sum()"
   ]
  },
  {
   "cell_type": "code",
   "execution_count": 20,
   "metadata": {},
   "outputs": [
    {
     "data": {
      "text/plain": [
       "(10,)"
      ]
     },
     "execution_count": 20,
     "metadata": {},
     "output_type": "execute_result"
    }
   ],
   "source": [
    "users_df['id'].unique().shape"
   ]
  },
  {
   "cell_type": "code",
   "execution_count": 22,
   "metadata": {},
   "outputs": [
    {
     "data": {
      "text/html": [
       "<div>\n",
       "<style scoped>\n",
       "    .dataframe tbody tr th:only-of-type {\n",
       "        vertical-align: middle;\n",
       "    }\n",
       "\n",
       "    .dataframe tbody tr th {\n",
       "        vertical-align: top;\n",
       "    }\n",
       "\n",
       "    .dataframe thead th {\n",
       "        text-align: right;\n",
       "    }\n",
       "</style>\n",
       "<table border=\"1\" class=\"dataframe\">\n",
       "  <thead>\n",
       "    <tr style=\"text-align: right;\">\n",
       "      <th></th>\n",
       "      <th>product_id</th>\n",
       "      <th>user_id</th>\n",
       "      <th>date</th>\n",
       "      <th>payment_method</th>\n",
       "      <th>quantity</th>\n",
       "      <th>total</th>\n",
       "    </tr>\n",
       "  </thead>\n",
       "  <tbody>\n",
       "    <tr>\n",
       "      <th>0</th>\n",
       "      <td>2</td>\n",
       "      <td>1</td>\n",
       "      <td>2004-04-18</td>\n",
       "      <td>Pix</td>\n",
       "      <td>2</td>\n",
       "      <td>44.60</td>\n",
       "    </tr>\n",
       "    <tr>\n",
       "      <th>1</th>\n",
       "      <td>13</td>\n",
       "      <td>4</td>\n",
       "      <td>2004-01-23</td>\n",
       "      <td>Cash</td>\n",
       "      <td>7</td>\n",
       "      <td>4193.00</td>\n",
       "    </tr>\n",
       "    <tr>\n",
       "      <th>2</th>\n",
       "      <td>4</td>\n",
       "      <td>10</td>\n",
       "      <td>2003-08-19</td>\n",
       "      <td>Cash</td>\n",
       "      <td>1</td>\n",
       "      <td>15.99</td>\n",
       "    </tr>\n",
       "    <tr>\n",
       "      <th>3</th>\n",
       "      <td>10</td>\n",
       "      <td>7</td>\n",
       "      <td>2004-03-08</td>\n",
       "      <td>Cash</td>\n",
       "      <td>8</td>\n",
       "      <td>872.00</td>\n",
       "    </tr>\n",
       "    <tr>\n",
       "      <th>4</th>\n",
       "      <td>1</td>\n",
       "      <td>5</td>\n",
       "      <td>2003-03-20</td>\n",
       "      <td>Pix</td>\n",
       "      <td>7</td>\n",
       "      <td>769.65</td>\n",
       "    </tr>\n",
       "  </tbody>\n",
       "</table>\n",
       "</div>"
      ],
      "text/plain": [
       "   product_id  user_id        date payment_method  quantity    total\n",
       "0           2        1  2004-04-18            Pix         2    44.60\n",
       "1          13        4  2004-01-23           Cash         7  4193.00\n",
       "2           4       10  2003-08-19           Cash         1    15.99\n",
       "3          10        7  2004-03-08           Cash         8   872.00\n",
       "4           1        5  2003-03-20            Pix         7   769.65"
      ]
     },
     "execution_count": 22,
     "metadata": {},
     "output_type": "execute_result"
    }
   ],
   "source": [
    "# analise vendas\n",
    "vendas_df.head()"
   ]
  },
  {
   "cell_type": "code",
   "execution_count": 23,
   "metadata": {},
   "outputs": [
    {
     "data": {
      "text/plain": [
       "Index(['product_id', 'user_id', 'date', 'payment_method', 'quantity', 'total'], dtype='object')"
      ]
     },
     "execution_count": 23,
     "metadata": {},
     "output_type": "execute_result"
    }
   ],
   "source": [
    "vendas_df.columns"
   ]
  },
  {
   "cell_type": "code",
   "execution_count": 24,
   "metadata": {},
   "outputs": [
    {
     "name": "stdout",
     "output_type": "stream",
     "text": [
      "<class 'pandas.core.frame.DataFrame'>\n",
      "RangeIndex: 1000 entries, 0 to 999\n",
      "Data columns (total 6 columns):\n",
      " #   Column          Non-Null Count  Dtype  \n",
      "---  ------          --------------  -----  \n",
      " 0   product_id      1000 non-null   int64  \n",
      " 1   user_id         1000 non-null   int64  \n",
      " 2   date            1000 non-null   object \n",
      " 3   payment_method  1000 non-null   object \n",
      " 4   quantity        1000 non-null   int64  \n",
      " 5   total           1000 non-null   float64\n",
      "dtypes: float64(1), int64(3), object(2)\n",
      "memory usage: 47.0+ KB\n"
     ]
    }
   ],
   "source": [
    "vendas_df.info()"
   ]
  },
  {
   "cell_type": "code",
   "execution_count": 25,
   "metadata": {},
   "outputs": [
    {
     "data": {
      "text/plain": [
       "product_id        0\n",
       "user_id           0\n",
       "date              0\n",
       "payment_method    0\n",
       "quantity          0\n",
       "total             0\n",
       "dtype: int64"
      ]
     },
     "execution_count": 25,
     "metadata": {},
     "output_type": "execute_result"
    }
   ],
   "source": [
    "vendas_df.isna().sum()"
   ]
  },
  {
   "cell_type": "code",
   "execution_count": 26,
   "metadata": {},
   "outputs": [
    {
     "data": {
      "text/plain": [
       "(1000, 6)"
      ]
     },
     "execution_count": 26,
     "metadata": {},
     "output_type": "execute_result"
    }
   ],
   "source": [
    "vendas_df.shape"
   ]
  },
  {
   "cell_type": "markdown",
   "metadata": {},
   "source": [
    "## TRANSFORMAÇÃO"
   ]
  },
  {
   "cell_type": "code",
   "execution_count": 35,
   "metadata": {},
   "outputs": [
    {
     "data": {
      "text/html": [
       "<div>\n",
       "<style scoped>\n",
       "    .dataframe tbody tr th:only-of-type {\n",
       "        vertical-align: middle;\n",
       "    }\n",
       "\n",
       "    .dataframe tbody tr th {\n",
       "        vertical-align: top;\n",
       "    }\n",
       "\n",
       "    .dataframe thead th {\n",
       "        text-align: right;\n",
       "    }\n",
       "</style>\n",
       "<table border=\"1\" class=\"dataframe\">\n",
       "  <thead>\n",
       "    <tr style=\"text-align: right;\">\n",
       "      <th></th>\n",
       "      <th>id</th>\n",
       "      <th>title</th>\n",
       "      <th>price</th>\n",
       "      <th>description</th>\n",
       "      <th>category</th>\n",
       "      <th>image</th>\n",
       "      <th>rate</th>\n",
       "      <th>rating_count</th>\n",
       "    </tr>\n",
       "  </thead>\n",
       "  <tbody>\n",
       "    <tr>\n",
       "      <th>0</th>\n",
       "      <td>1</td>\n",
       "      <td>Fjallraven - Foldsack No. 1 Backpack, Fits 15 ...</td>\n",
       "      <td>109.95</td>\n",
       "      <td>Your perfect pack for everyday use and walks i...</td>\n",
       "      <td>men's clothing</td>\n",
       "      <td>https://fakestoreapi.com/img/81fPKd-2AYL._AC_S...</td>\n",
       "      <td>3.9</td>\n",
       "      <td>120</td>\n",
       "    </tr>\n",
       "    <tr>\n",
       "      <th>1</th>\n",
       "      <td>2</td>\n",
       "      <td>Mens Casual Premium Slim Fit T-Shirts</td>\n",
       "      <td>22.30</td>\n",
       "      <td>Slim-fitting style, contrast raglan long sleev...</td>\n",
       "      <td>men's clothing</td>\n",
       "      <td>https://fakestoreapi.com/img/71-3HjGNDUL._AC_S...</td>\n",
       "      <td>4.1</td>\n",
       "      <td>259</td>\n",
       "    </tr>\n",
       "    <tr>\n",
       "      <th>2</th>\n",
       "      <td>3</td>\n",
       "      <td>Mens Cotton Jacket</td>\n",
       "      <td>55.99</td>\n",
       "      <td>great outerwear jackets for Spring/Autumn/Wint...</td>\n",
       "      <td>men's clothing</td>\n",
       "      <td>https://fakestoreapi.com/img/71li-ujtlUL._AC_U...</td>\n",
       "      <td>4.7</td>\n",
       "      <td>500</td>\n",
       "    </tr>\n",
       "    <tr>\n",
       "      <th>3</th>\n",
       "      <td>4</td>\n",
       "      <td>Mens Casual Slim Fit</td>\n",
       "      <td>15.99</td>\n",
       "      <td>The color could be slightly different between ...</td>\n",
       "      <td>men's clothing</td>\n",
       "      <td>https://fakestoreapi.com/img/71YXzeOuslL._AC_U...</td>\n",
       "      <td>2.1</td>\n",
       "      <td>430</td>\n",
       "    </tr>\n",
       "    <tr>\n",
       "      <th>4</th>\n",
       "      <td>5</td>\n",
       "      <td>John Hardy Women's Legends Naga Gold &amp; Silver ...</td>\n",
       "      <td>695.00</td>\n",
       "      <td>From our Legends Collection, the Naga was insp...</td>\n",
       "      <td>jewelery</td>\n",
       "      <td>https://fakestoreapi.com/img/71pWzhdJNwL._AC_U...</td>\n",
       "      <td>4.6</td>\n",
       "      <td>400</td>\n",
       "    </tr>\n",
       "  </tbody>\n",
       "</table>\n",
       "</div>"
      ],
      "text/plain": [
       "   id                                              title   price  \\\n",
       "0   1  Fjallraven - Foldsack No. 1 Backpack, Fits 15 ...  109.95   \n",
       "1   2             Mens Casual Premium Slim Fit T-Shirts    22.30   \n",
       "2   3                                 Mens Cotton Jacket   55.99   \n",
       "3   4                               Mens Casual Slim Fit   15.99   \n",
       "4   5  John Hardy Women's Legends Naga Gold & Silver ...  695.00   \n",
       "\n",
       "                                         description        category  \\\n",
       "0  Your perfect pack for everyday use and walks i...  men's clothing   \n",
       "1  Slim-fitting style, contrast raglan long sleev...  men's clothing   \n",
       "2  great outerwear jackets for Spring/Autumn/Wint...  men's clothing   \n",
       "3  The color could be slightly different between ...  men's clothing   \n",
       "4  From our Legends Collection, the Naga was insp...        jewelery   \n",
       "\n",
       "                                               image  rate  rating_count  \n",
       "0  https://fakestoreapi.com/img/81fPKd-2AYL._AC_S...   3.9           120  \n",
       "1  https://fakestoreapi.com/img/71-3HjGNDUL._AC_S...   4.1           259  \n",
       "2  https://fakestoreapi.com/img/71li-ujtlUL._AC_U...   4.7           500  \n",
       "3  https://fakestoreapi.com/img/71YXzeOuslL._AC_U...   2.1           430  \n",
       "4  https://fakestoreapi.com/img/71pWzhdJNwL._AC_U...   4.6           400  "
      ]
     },
     "execution_count": 35,
     "metadata": {},
     "output_type": "execute_result"
    }
   ],
   "source": [
    "# products\n",
    "products_df['rate'] = products_df['rating'].apply(lambda x: x['rate'])\n",
    "products_df['rating_count'] = products_df['rating'].apply(lambda x: x['count'])\n",
    "products_df.drop('rating', axis=1, inplace=True)\n",
    "\n",
    "products_df.head()"
   ]
  },
  {
   "cell_type": "code",
   "execution_count": 36,
   "metadata": {},
   "outputs": [
    {
     "data": {
      "text/html": [
       "<div>\n",
       "<style scoped>\n",
       "    .dataframe tbody tr th:only-of-type {\n",
       "        vertical-align: middle;\n",
       "    }\n",
       "\n",
       "    .dataframe tbody tr th {\n",
       "        vertical-align: top;\n",
       "    }\n",
       "\n",
       "    .dataframe thead th {\n",
       "        text-align: right;\n",
       "    }\n",
       "</style>\n",
       "<table border=\"1\" class=\"dataframe\">\n",
       "  <thead>\n",
       "    <tr style=\"text-align: right;\">\n",
       "      <th></th>\n",
       "      <th>address</th>\n",
       "      <th>id</th>\n",
       "      <th>email</th>\n",
       "      <th>username</th>\n",
       "      <th>password</th>\n",
       "      <th>name</th>\n",
       "      <th>phone</th>\n",
       "      <th>__v</th>\n",
       "    </tr>\n",
       "  </thead>\n",
       "  <tbody>\n",
       "    <tr>\n",
       "      <th>0</th>\n",
       "      <td>{'geolocation': {'lat': '-37.3159', 'long': '8...</td>\n",
       "      <td>1</td>\n",
       "      <td>john@gmail.com</td>\n",
       "      <td>johnd</td>\n",
       "      <td>m38rmF$</td>\n",
       "      <td>{'firstname': 'john', 'lastname': 'doe'}</td>\n",
       "      <td>1-570-236-7033</td>\n",
       "      <td>0</td>\n",
       "    </tr>\n",
       "    <tr>\n",
       "      <th>1</th>\n",
       "      <td>{'geolocation': {'lat': '-37.3159', 'long': '8...</td>\n",
       "      <td>2</td>\n",
       "      <td>morrison@gmail.com</td>\n",
       "      <td>mor_2314</td>\n",
       "      <td>83r5^_</td>\n",
       "      <td>{'firstname': 'david', 'lastname': 'morrison'}</td>\n",
       "      <td>1-570-236-7033</td>\n",
       "      <td>0</td>\n",
       "    </tr>\n",
       "    <tr>\n",
       "      <th>2</th>\n",
       "      <td>{'geolocation': {'lat': '40.3467', 'long': '-3...</td>\n",
       "      <td>3</td>\n",
       "      <td>kevin@gmail.com</td>\n",
       "      <td>kevinryan</td>\n",
       "      <td>kev02937@</td>\n",
       "      <td>{'firstname': 'kevin', 'lastname': 'ryan'}</td>\n",
       "      <td>1-567-094-1345</td>\n",
       "      <td>0</td>\n",
       "    </tr>\n",
       "  </tbody>\n",
       "</table>\n",
       "</div>"
      ],
      "text/plain": [
       "                                             address  id               email  \\\n",
       "0  {'geolocation': {'lat': '-37.3159', 'long': '8...   1      john@gmail.com   \n",
       "1  {'geolocation': {'lat': '-37.3159', 'long': '8...   2  morrison@gmail.com   \n",
       "2  {'geolocation': {'lat': '40.3467', 'long': '-3...   3     kevin@gmail.com   \n",
       "\n",
       "    username   password                                            name  \\\n",
       "0      johnd    m38rmF$        {'firstname': 'john', 'lastname': 'doe'}   \n",
       "1   mor_2314     83r5^_  {'firstname': 'david', 'lastname': 'morrison'}   \n",
       "2  kevinryan  kev02937@      {'firstname': 'kevin', 'lastname': 'ryan'}   \n",
       "\n",
       "            phone  __v  \n",
       "0  1-570-236-7033    0  \n",
       "1  1-570-236-7033    0  \n",
       "2  1-567-094-1345    0  "
      ]
     },
     "execution_count": 36,
     "metadata": {},
     "output_type": "execute_result"
    }
   ],
   "source": [
    "# users\n",
    "users_df.head(3)"
   ]
  },
  {
   "cell_type": "code",
   "execution_count": 38,
   "metadata": {},
   "outputs": [
    {
     "data": {
      "text/html": [
       "<div>\n",
       "<style scoped>\n",
       "    .dataframe tbody tr th:only-of-type {\n",
       "        vertical-align: middle;\n",
       "    }\n",
       "\n",
       "    .dataframe tbody tr th {\n",
       "        vertical-align: top;\n",
       "    }\n",
       "\n",
       "    .dataframe thead th {\n",
       "        text-align: right;\n",
       "    }\n",
       "</style>\n",
       "<table border=\"1\" class=\"dataframe\">\n",
       "  <thead>\n",
       "    <tr style=\"text-align: right;\">\n",
       "      <th></th>\n",
       "      <th>id</th>\n",
       "      <th>email</th>\n",
       "      <th>username</th>\n",
       "      <th>phone</th>\n",
       "      <th>full_name</th>\n",
       "      <th>full_address</th>\n",
       "      <th>lat</th>\n",
       "      <th>long</th>\n",
       "    </tr>\n",
       "  </thead>\n",
       "  <tbody>\n",
       "    <tr>\n",
       "      <th>0</th>\n",
       "      <td>1</td>\n",
       "      <td>john@gmail.com</td>\n",
       "      <td>johnd</td>\n",
       "      <td>1-570-236-7033</td>\n",
       "      <td>john doe</td>\n",
       "      <td>7682 new road, kilcoole, 12926-3874</td>\n",
       "      <td>-37.3159</td>\n",
       "      <td>81.1496</td>\n",
       "    </tr>\n",
       "    <tr>\n",
       "      <th>1</th>\n",
       "      <td>2</td>\n",
       "      <td>morrison@gmail.com</td>\n",
       "      <td>mor_2314</td>\n",
       "      <td>1-570-236-7033</td>\n",
       "      <td>david morrison</td>\n",
       "      <td>7267 Lovers Ln, kilcoole, 12926-3874</td>\n",
       "      <td>-37.3159</td>\n",
       "      <td>81.1496</td>\n",
       "    </tr>\n",
       "    <tr>\n",
       "      <th>2</th>\n",
       "      <td>3</td>\n",
       "      <td>kevin@gmail.com</td>\n",
       "      <td>kevinryan</td>\n",
       "      <td>1-567-094-1345</td>\n",
       "      <td>kevin ryan</td>\n",
       "      <td>86 Frances Ct, Cullman, 29567-1452</td>\n",
       "      <td>40.3467</td>\n",
       "      <td>-30.1310</td>\n",
       "    </tr>\n",
       "  </tbody>\n",
       "</table>\n",
       "</div>"
      ],
      "text/plain": [
       "   id               email   username           phone       full_name  \\\n",
       "0   1      john@gmail.com      johnd  1-570-236-7033        john doe   \n",
       "1   2  morrison@gmail.com   mor_2314  1-570-236-7033  david morrison   \n",
       "2   3     kevin@gmail.com  kevinryan  1-567-094-1345      kevin ryan   \n",
       "\n",
       "                           full_address       lat      long  \n",
       "0   7682 new road, kilcoole, 12926-3874  -37.3159   81.1496  \n",
       "1  7267 Lovers Ln, kilcoole, 12926-3874  -37.3159   81.1496  \n",
       "2    86 Frances Ct, Cullman, 29567-1452   40.3467  -30.1310  "
      ]
     },
     "execution_count": 38,
     "metadata": {},
     "output_type": "execute_result"
    }
   ],
   "source": [
    "users_df['full_name'] = users_df['name'].apply(lambda x: f\"{x['firstname']} {x['lastname']}\")\n",
    "users_df['full_address'] = users_df['address'].apply(lambda x: f\"{x['number']} {x['street']}, {x['city']}, {x['zipcode']}\")\n",
    "users_df['lat'] = users_df['address'].apply(lambda x: x['geolocation']['lat'])\n",
    "users_df['long'] = users_df['address'].apply(lambda x: x['geolocation']['long'])\n",
    "users_df.drop(columns=['name', 'address', 'password', '__v'], axis=1, inplace=True)\n",
    "users_df.head(3)"
   ]
  },
  {
   "cell_type": "markdown",
   "metadata": {},
   "source": [
    "## LOAD"
   ]
  },
  {
   "cell_type": "code",
   "execution_count": null,
   "metadata": {},
   "outputs": [
    {
     "data": {
      "text/plain": [
       "True"
      ]
     },
     "execution_count": 42,
     "metadata": {},
     "output_type": "execute_result"
    }
   ],
   "source": [
    "import os\n",
    "import sqlite3 \n",
    "\n",
    "DB_PATH = 'data/teste.db'\n",
    "os.path.isfile('data/vendas.csv')"
   ]
  },
  {
   "cell_type": "code",
   "execution_count": null,
   "metadata": {},
   "outputs": [],
   "source": [
    "# criando tabela produtos\n",
    "conn = sqlite3.connect(DB_PATH)\n",
    "\n",
    "cursor = conn.cursor()\n",
    "cursor.execute('''\n",
    "    CREATE TABLE IF NOT EXISTS products (\n",
    "        id INTEGER PRIMARY KEY,\n",
    "        title TEXT,\n",
    "        price REAL,\n",
    "        description TEXT,\n",
    "        category TEXT,\n",
    "        image TEXT,\n",
    "        rate REAL,\n",
    "        rating_count INTEGER\n",
    "    )\n",
    "''')\n",
    "conn.commit()\n",
    "conn.close()"
   ]
  },
  {
   "cell_type": "code",
   "execution_count": 45,
   "metadata": {},
   "outputs": [],
   "source": [
    "# criando tabela users\n",
    "conn = sqlite3.connect(DB_PATH)\n",
    "\n",
    "cursor = conn.cursor()\n",
    "cursor.execute('''\n",
    "    CREATE TABLE IF NOT EXISTS users (\n",
    "        id INTEGER PRIMARY KEY,\n",
    "        email TEXT,\n",
    "        username TEXT,\n",
    "        phone TEXT,\n",
    "        full_name TEXT,\n",
    "        full_address TEXT,\n",
    "        lat REAL,\n",
    "        long REAL\n",
    "    )\n",
    "''')\n",
    "conn.commit()\n",
    "conn.close()"
   ]
  },
  {
   "cell_type": "code",
   "execution_count": 46,
   "metadata": {},
   "outputs": [],
   "source": [
    "# criando tabela vendas\n",
    "conn = sqlite3.connect(DB_PATH)\n",
    "\n",
    "cursor = conn.cursor()\n",
    "cursor.execute('''\n",
    "    CREATE TABLE IF NOT EXISTS sales (\n",
    "        id INTEGER PRIMARY KEY AUTOINCREMENT,\n",
    "        product_id INTEGER,\n",
    "        user_id INTEGER,\n",
    "        date TEXT,\n",
    "        payment_method TEXT,\n",
    "        quantity INTEGER,\n",
    "        total REAL,\n",
    "        FOREIGN KEY (product_id) REFERENCES products (id),\n",
    "        FOREIGN KEY (user_id) REFERENCES users (id)\n",
    "    )\n",
    "''')\n",
    "conn.commit()\n",
    "conn.close()"
   ]
  },
  {
   "cell_type": "code",
   "execution_count": 47,
   "metadata": {},
   "outputs": [],
   "source": [
    "# populando db\n",
    "conn = sqlite3.connect(DB_PATH)\n",
    "products_df.to_sql('products', conn, if_exists='append', index=False)\n",
    "users_df.to_sql('users', conn, if_exists='append', index=False)\n",
    "vendas_df.to_sql('sales', conn, if_exists='append', index=False)\n",
    "conn.close()"
   ]
  },
  {
   "cell_type": "code",
   "execution_count": 50,
   "metadata": {},
   "outputs": [
    {
     "data": {
      "text/html": [
       "<div>\n",
       "<style scoped>\n",
       "    .dataframe tbody tr th:only-of-type {\n",
       "        vertical-align: middle;\n",
       "    }\n",
       "\n",
       "    .dataframe tbody tr th {\n",
       "        vertical-align: top;\n",
       "    }\n",
       "\n",
       "    .dataframe thead th {\n",
       "        text-align: right;\n",
       "    }\n",
       "</style>\n",
       "<table border=\"1\" class=\"dataframe\">\n",
       "  <thead>\n",
       "    <tr style=\"text-align: right;\">\n",
       "      <th></th>\n",
       "      <th>id</th>\n",
       "      <th>title</th>\n",
       "      <th>price</th>\n",
       "      <th>description</th>\n",
       "      <th>category</th>\n",
       "      <th>image</th>\n",
       "      <th>rate</th>\n",
       "      <th>rating_count</th>\n",
       "    </tr>\n",
       "  </thead>\n",
       "  <tbody>\n",
       "    <tr>\n",
       "      <th>0</th>\n",
       "      <td>1</td>\n",
       "      <td>Fjallraven - Foldsack No. 1 Backpack, Fits 15 ...</td>\n",
       "      <td>109.95</td>\n",
       "      <td>Your perfect pack for everyday use and walks i...</td>\n",
       "      <td>men's clothing</td>\n",
       "      <td>https://fakestoreapi.com/img/81fPKd-2AYL._AC_S...</td>\n",
       "      <td>3.9</td>\n",
       "      <td>120</td>\n",
       "    </tr>\n",
       "    <tr>\n",
       "      <th>1</th>\n",
       "      <td>2</td>\n",
       "      <td>Mens Casual Premium Slim Fit T-Shirts</td>\n",
       "      <td>22.30</td>\n",
       "      <td>Slim-fitting style, contrast raglan long sleev...</td>\n",
       "      <td>men's clothing</td>\n",
       "      <td>https://fakestoreapi.com/img/71-3HjGNDUL._AC_S...</td>\n",
       "      <td>4.1</td>\n",
       "      <td>259</td>\n",
       "    </tr>\n",
       "    <tr>\n",
       "      <th>2</th>\n",
       "      <td>3</td>\n",
       "      <td>Mens Cotton Jacket</td>\n",
       "      <td>55.99</td>\n",
       "      <td>great outerwear jackets for Spring/Autumn/Wint...</td>\n",
       "      <td>men's clothing</td>\n",
       "      <td>https://fakestoreapi.com/img/71li-ujtlUL._AC_U...</td>\n",
       "      <td>4.7</td>\n",
       "      <td>500</td>\n",
       "    </tr>\n",
       "    <tr>\n",
       "      <th>3</th>\n",
       "      <td>4</td>\n",
       "      <td>Mens Casual Slim Fit</td>\n",
       "      <td>15.99</td>\n",
       "      <td>The color could be slightly different between ...</td>\n",
       "      <td>men's clothing</td>\n",
       "      <td>https://fakestoreapi.com/img/71YXzeOuslL._AC_U...</td>\n",
       "      <td>2.1</td>\n",
       "      <td>430</td>\n",
       "    </tr>\n",
       "    <tr>\n",
       "      <th>4</th>\n",
       "      <td>5</td>\n",
       "      <td>John Hardy Women's Legends Naga Gold &amp; Silver ...</td>\n",
       "      <td>695.00</td>\n",
       "      <td>From our Legends Collection, the Naga was insp...</td>\n",
       "      <td>jewelery</td>\n",
       "      <td>https://fakestoreapi.com/img/71pWzhdJNwL._AC_U...</td>\n",
       "      <td>4.6</td>\n",
       "      <td>400</td>\n",
       "    </tr>\n",
       "  </tbody>\n",
       "</table>\n",
       "</div>"
      ],
      "text/plain": [
       "   id                                              title   price  \\\n",
       "0   1  Fjallraven - Foldsack No. 1 Backpack, Fits 15 ...  109.95   \n",
       "1   2             Mens Casual Premium Slim Fit T-Shirts    22.30   \n",
       "2   3                                 Mens Cotton Jacket   55.99   \n",
       "3   4                               Mens Casual Slim Fit   15.99   \n",
       "4   5  John Hardy Women's Legends Naga Gold & Silver ...  695.00   \n",
       "\n",
       "                                         description        category  \\\n",
       "0  Your perfect pack for everyday use and walks i...  men's clothing   \n",
       "1  Slim-fitting style, contrast raglan long sleev...  men's clothing   \n",
       "2  great outerwear jackets for Spring/Autumn/Wint...  men's clothing   \n",
       "3  The color could be slightly different between ...  men's clothing   \n",
       "4  From our Legends Collection, the Naga was insp...        jewelery   \n",
       "\n",
       "                                               image  rate  rating_count  \n",
       "0  https://fakestoreapi.com/img/81fPKd-2AYL._AC_S...   3.9           120  \n",
       "1  https://fakestoreapi.com/img/71-3HjGNDUL._AC_S...   4.1           259  \n",
       "2  https://fakestoreapi.com/img/71li-ujtlUL._AC_U...   4.7           500  \n",
       "3  https://fakestoreapi.com/img/71YXzeOuslL._AC_U...   2.1           430  \n",
       "4  https://fakestoreapi.com/img/71pWzhdJNwL._AC_U...   4.6           400  "
      ]
     },
     "execution_count": 50,
     "metadata": {},
     "output_type": "execute_result"
    }
   ],
   "source": [
    "conn = sqlite3.connect(DB_PATH)\n",
    "pd.read_sql_query(\"SELECT * FROM products LIMIT 5\", conn)"
   ]
  },
  {
   "cell_type": "code",
   "execution_count": 51,
   "metadata": {},
   "outputs": [
    {
     "data": {
      "text/html": [
       "<div>\n",
       "<style scoped>\n",
       "    .dataframe tbody tr th:only-of-type {\n",
       "        vertical-align: middle;\n",
       "    }\n",
       "\n",
       "    .dataframe tbody tr th {\n",
       "        vertical-align: top;\n",
       "    }\n",
       "\n",
       "    .dataframe thead th {\n",
       "        text-align: right;\n",
       "    }\n",
       "</style>\n",
       "<table border=\"1\" class=\"dataframe\">\n",
       "  <thead>\n",
       "    <tr style=\"text-align: right;\">\n",
       "      <th></th>\n",
       "      <th>id</th>\n",
       "      <th>email</th>\n",
       "      <th>username</th>\n",
       "      <th>phone</th>\n",
       "      <th>full_name</th>\n",
       "      <th>full_address</th>\n",
       "      <th>lat</th>\n",
       "      <th>long</th>\n",
       "    </tr>\n",
       "  </thead>\n",
       "  <tbody>\n",
       "    <tr>\n",
       "      <th>0</th>\n",
       "      <td>1</td>\n",
       "      <td>john@gmail.com</td>\n",
       "      <td>johnd</td>\n",
       "      <td>1-570-236-7033</td>\n",
       "      <td>john doe</td>\n",
       "      <td>7682 new road, kilcoole, 12926-3874</td>\n",
       "      <td>-37.3159</td>\n",
       "      <td>81.1496</td>\n",
       "    </tr>\n",
       "    <tr>\n",
       "      <th>1</th>\n",
       "      <td>2</td>\n",
       "      <td>morrison@gmail.com</td>\n",
       "      <td>mor_2314</td>\n",
       "      <td>1-570-236-7033</td>\n",
       "      <td>david morrison</td>\n",
       "      <td>7267 Lovers Ln, kilcoole, 12926-3874</td>\n",
       "      <td>-37.3159</td>\n",
       "      <td>81.1496</td>\n",
       "    </tr>\n",
       "    <tr>\n",
       "      <th>2</th>\n",
       "      <td>3</td>\n",
       "      <td>kevin@gmail.com</td>\n",
       "      <td>kevinryan</td>\n",
       "      <td>1-567-094-1345</td>\n",
       "      <td>kevin ryan</td>\n",
       "      <td>86 Frances Ct, Cullman, 29567-1452</td>\n",
       "      <td>40.3467</td>\n",
       "      <td>-30.1310</td>\n",
       "    </tr>\n",
       "    <tr>\n",
       "      <th>3</th>\n",
       "      <td>4</td>\n",
       "      <td>don@gmail.com</td>\n",
       "      <td>donero</td>\n",
       "      <td>1-765-789-6734</td>\n",
       "      <td>don romer</td>\n",
       "      <td>6454 Hunters Creek Dr, San Antonio, 98234-1734</td>\n",
       "      <td>50.3467</td>\n",
       "      <td>-20.1310</td>\n",
       "    </tr>\n",
       "    <tr>\n",
       "      <th>4</th>\n",
       "      <td>5</td>\n",
       "      <td>derek@gmail.com</td>\n",
       "      <td>derek</td>\n",
       "      <td>1-956-001-1945</td>\n",
       "      <td>derek powell</td>\n",
       "      <td>245 adams St, san Antonio, 80796-1234</td>\n",
       "      <td>40.3467</td>\n",
       "      <td>-40.1310</td>\n",
       "    </tr>\n",
       "  </tbody>\n",
       "</table>\n",
       "</div>"
      ],
      "text/plain": [
       "   id               email   username           phone       full_name  \\\n",
       "0   1      john@gmail.com      johnd  1-570-236-7033        john doe   \n",
       "1   2  morrison@gmail.com   mor_2314  1-570-236-7033  david morrison   \n",
       "2   3     kevin@gmail.com  kevinryan  1-567-094-1345      kevin ryan   \n",
       "3   4       don@gmail.com     donero  1-765-789-6734       don romer   \n",
       "4   5     derek@gmail.com      derek  1-956-001-1945    derek powell   \n",
       "\n",
       "                                     full_address      lat     long  \n",
       "0             7682 new road, kilcoole, 12926-3874 -37.3159  81.1496  \n",
       "1            7267 Lovers Ln, kilcoole, 12926-3874 -37.3159  81.1496  \n",
       "2              86 Frances Ct, Cullman, 29567-1452  40.3467 -30.1310  \n",
       "3  6454 Hunters Creek Dr, San Antonio, 98234-1734  50.3467 -20.1310  \n",
       "4           245 adams St, san Antonio, 80796-1234  40.3467 -40.1310  "
      ]
     },
     "execution_count": 51,
     "metadata": {},
     "output_type": "execute_result"
    }
   ],
   "source": [
    "pd.read_sql_query(\"SELECT * FROM users LIMIT 5\", conn)"
   ]
  },
  {
   "cell_type": "code",
   "execution_count": 52,
   "metadata": {},
   "outputs": [
    {
     "data": {
      "text/html": [
       "<div>\n",
       "<style scoped>\n",
       "    .dataframe tbody tr th:only-of-type {\n",
       "        vertical-align: middle;\n",
       "    }\n",
       "\n",
       "    .dataframe tbody tr th {\n",
       "        vertical-align: top;\n",
       "    }\n",
       "\n",
       "    .dataframe thead th {\n",
       "        text-align: right;\n",
       "    }\n",
       "</style>\n",
       "<table border=\"1\" class=\"dataframe\">\n",
       "  <thead>\n",
       "    <tr style=\"text-align: right;\">\n",
       "      <th></th>\n",
       "      <th>id</th>\n",
       "      <th>product_id</th>\n",
       "      <th>user_id</th>\n",
       "      <th>date</th>\n",
       "      <th>payment_method</th>\n",
       "      <th>quantity</th>\n",
       "      <th>total</th>\n",
       "    </tr>\n",
       "  </thead>\n",
       "  <tbody>\n",
       "    <tr>\n",
       "      <th>0</th>\n",
       "      <td>1</td>\n",
       "      <td>2</td>\n",
       "      <td>1</td>\n",
       "      <td>2004-04-18</td>\n",
       "      <td>Pix</td>\n",
       "      <td>2</td>\n",
       "      <td>44.60</td>\n",
       "    </tr>\n",
       "    <tr>\n",
       "      <th>1</th>\n",
       "      <td>2</td>\n",
       "      <td>13</td>\n",
       "      <td>4</td>\n",
       "      <td>2004-01-23</td>\n",
       "      <td>Cash</td>\n",
       "      <td>7</td>\n",
       "      <td>4193.00</td>\n",
       "    </tr>\n",
       "    <tr>\n",
       "      <th>2</th>\n",
       "      <td>3</td>\n",
       "      <td>4</td>\n",
       "      <td>10</td>\n",
       "      <td>2003-08-19</td>\n",
       "      <td>Cash</td>\n",
       "      <td>1</td>\n",
       "      <td>15.99</td>\n",
       "    </tr>\n",
       "    <tr>\n",
       "      <th>3</th>\n",
       "      <td>4</td>\n",
       "      <td>10</td>\n",
       "      <td>7</td>\n",
       "      <td>2004-03-08</td>\n",
       "      <td>Cash</td>\n",
       "      <td>8</td>\n",
       "      <td>872.00</td>\n",
       "    </tr>\n",
       "    <tr>\n",
       "      <th>4</th>\n",
       "      <td>5</td>\n",
       "      <td>1</td>\n",
       "      <td>5</td>\n",
       "      <td>2003-03-20</td>\n",
       "      <td>Pix</td>\n",
       "      <td>7</td>\n",
       "      <td>769.65</td>\n",
       "    </tr>\n",
       "  </tbody>\n",
       "</table>\n",
       "</div>"
      ],
      "text/plain": [
       "   id  product_id  user_id        date payment_method  quantity    total\n",
       "0   1           2        1  2004-04-18            Pix         2    44.60\n",
       "1   2          13        4  2004-01-23           Cash         7  4193.00\n",
       "2   3           4       10  2003-08-19           Cash         1    15.99\n",
       "3   4          10        7  2004-03-08           Cash         8   872.00\n",
       "4   5           1        5  2003-03-20            Pix         7   769.65"
      ]
     },
     "execution_count": 52,
     "metadata": {},
     "output_type": "execute_result"
    }
   ],
   "source": [
    "pd.read_sql_query(\"SELECT * FROM sales LIMIT 5\", conn)"
   ]
  },
  {
   "cell_type": "code",
   "execution_count": 53,
   "metadata": {},
   "outputs": [],
   "source": [
    "conn.close()"
   ]
  }
 ],
 "metadata": {
  "kernelspec": {
   "display_name": "base",
   "language": "python",
   "name": "python3"
  },
  "language_info": {
   "codemirror_mode": {
    "name": "ipython",
    "version": 3
   },
   "file_extension": ".py",
   "mimetype": "text/x-python",
   "name": "python",
   "nbconvert_exporter": "python",
   "pygments_lexer": "ipython3",
   "version": "3.12.4"
  }
 },
 "nbformat": 4,
 "nbformat_minor": 2
}
